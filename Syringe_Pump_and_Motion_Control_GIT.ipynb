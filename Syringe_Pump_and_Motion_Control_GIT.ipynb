{
 "cells": [
  {
   "cell_type": "markdown",
   "id": "40125b3b",
   "metadata": {},
   "source": [
    "# Using Syringe Pumps and Motion Controllers"
   ]
  },
  {
   "cell_type": "markdown",
   "id": "a4e0d7cc",
   "metadata": {},
   "source": [
    "In this notebook, a motion controller and syringe pump controllers are used to create an array of drop-cast films."
   ]
  },
  {
   "cell_type": "markdown",
   "id": "0c17034a",
   "metadata": {},
   "source": [
    "*Pyvisa - python pacakge enables communication between python programs and electronic instruments.* <br>\n",
    "* Instal pyvisa via: pip install -U pyvisa-py, in command prompt"
   ]
  },
  {
   "cell_type": "code",
   "execution_count": null,
   "id": "c9beb12e",
   "metadata": {},
   "outputs": [],
   "source": [
    "#Import Packages\n",
    "from cgi import test\n",
    "from optparse import Values\n",
    "from sqlite3 import Row\n",
    "from time import time\n",
    "import tkinter as tk\n",
    "from turtle import width\n",
    "import pyvisa\n",
    "import cv2\n",
    "from PIL import Image, ImageTk\n",
    "from webbrowser import get\n",
    "import numpy as np\n",
    "import datetime as dt\n",
    "import matplotlib.pyplot as plt\n",
    "import matplotlib.animation as animation\n",
    "from matplotlib.backends.backend_tkagg import FigureCanvasTkAgg\n",
    "from matplotlib.figure import Figure\n",
    "import threading as th\n",
    "import minimalmodbus\n",
    "from skopt import Optimizer\n",
    "from skopt.plots import plot_objective\n",
    "from skopt.plots import plot_evaluations\n",
    "import os"
   ]
  },
  {
   "cell_type": "markdown",
   "id": "69aa3b5d",
   "metadata": {},
   "source": [
    "Create a resource manager object, responsible for managing connections and communication with various instruments connected to your computer"
   ]
  },
  {
   "cell_type": "code",
   "execution_count": null,
   "id": "8cc8aa32",
   "metadata": {},
   "outputs": [],
   "source": [
    "rm = pyvisa.ResourceManager()"
   ]
  },
  {
   "cell_type": "code",
   "execution_count": null,
   "id": "70e8685b",
   "metadata": {},
   "outputs": [],
   "source": [
    "print(rm.list_resources()) "
   ]
  },
  {
   "cell_type": "markdown",
   "id": "df70a598",
   "metadata": {},
   "source": [
    "Now establish a communication with a specific instrument connected to the port"
   ]
  },
  {
   "cell_type": "code",
   "execution_count": null,
   "id": "eb5e0e53",
   "metadata": {},
   "outputs": [],
   "source": [
    "#ASRL7 = Linear Stage\n",
    "com_pxpy = rm.open_resource('ASRL7::INSTR')\n",
    "com_pxpy.baud_rate = 921600 #fixed\n",
    "\n",
    "#ASRL4 = Syringe pumps\n",
    "com_syr = rm.open_resource('ASRL4::INSTR')\n",
    "com_syr.baud_rate = 115200 #fixed"
   ]
  },
  {
   "cell_type": "markdown",
   "id": "7c27a4b5",
   "metadata": {},
   "source": [
    "# Calibrate the Motion Controller\n",
    "\n",
    "Instruct motion controller to enable motion for axis 1 and axis 2. Identify the live position of motion controller and print it."
   ]
  },
  {
   "cell_type": "code",
   "execution_count": null,
   "id": "5d0f3403",
   "metadata": {},
   "outputs": [],
   "source": [
    "#Turns on Motion Controller\n",
    "com_pxpy.write('1MO')\n",
    "com_pxpy.write('2MO')\n",
    "\n",
    "#Identify current Motion Controller position and print\n",
    "live_position_x_t = com_pxpy.query_ascii_values('1TP?')\n",
    "live_position_x = ''.join(str(element) for element in live_position_x_t)\n",
    "live_position_y_t = com_pxpy.query_ascii_values('2TP?')\n",
    "live_position_y = ''.join(str(element) for element in live_position_y_t)\n",
    "print('(x,y):')\n",
    "print(live_position_x, live_position_y)\n"
   ]
  },
  {
   "cell_type": "markdown",
   "id": "de396256",
   "metadata": {},
   "source": [
    "Now define a function to command motion controller to move to a specified position"
   ]
  },
  {
   "cell_type": "code",
   "execution_count": null,
   "id": "0c35dbff",
   "metadata": {},
   "outputs": [],
   "source": [
    "def move_to(position_x, position_y):\n",
    "    position_x = str(position_x)\n",
    "    position_y = str(position_y)\n",
    "    com_pxpy.write('1PA'+position_x)\n",
    "    time.sleep(0.1)              \n",
    "    com_pxpy.write('2PA'+position_y)\n",
    "    time.sleep(0.1)"
   ]
  },
  {
   "cell_type": "markdown",
   "id": "e66afcf2",
   "metadata": {},
   "source": [
    "Defining a position where syringe aligns to the flush position and check by identifying the syringe position"
   ]
  },
  {
   "cell_type": "code",
   "execution_count": null,
   "id": "3c2fc2f3",
   "metadata": {},
   "outputs": [],
   "source": [
    "move_to(-40,-40) #This will be Syringe Position"
   ]
  },
  {
   "cell_type": "code",
   "execution_count": null,
   "id": "87f8bf64",
   "metadata": {},
   "outputs": [],
   "source": [
    "#Identifying the Syringe position\n",
    "syringe_position_x = com_pxpy.query_ascii_values('1TP?')\n",
    "syringe_position_x = ''.join(str(element) for element in syringe_position_x)\n",
    "syringe_position_y = com_pxpy.query_ascii_values('2TP?')\n",
    "syringe_position_y = ''.join(str(element) for element in syringe_position_y)\n",
    "print(syringe_position_x,syringe_position_y)"
   ]
  },
  {
   "cell_type": "markdown",
   "id": "b655cf13",
   "metadata": {},
   "source": [
    "# Setup the Syringe Pumps for Experiments (here 2 pumps are used)"
   ]
  },
  {
   "cell_type": "markdown",
   "id": "935cd496",
   "metadata": {},
   "source": [
    "Initialize the syringe and drying parameters:\n",
    "\n",
    "* Syringe Diameter (mm)\n",
    "\n",
    "* Reservior Volume (mL)\n",
    "\n",
    "* Total volume to be dispensed (uL)\n",
    "\n",
    "* Dispense Time (t) \n",
    "\n",
    "* Infusion Rate (mL/min)\n",
    "\n",
    "* Evaporation time (t) \n",
    "\n",
    "* Sample center-center distance (mm)"
   ]
  },
  {
   "cell_type": "code",
   "execution_count": null,
   "id": "e14cbf97",
   "metadata": {},
   "outputs": [],
   "source": [
    "#Initialize syringe parameters\n",
    "\n",
    "sy_dia = 10.3 #mm (hamiliton glass syringes 81520)\n",
    "res_vol = 4 #mL\n",
    "\n",
    "total_dispense_vol = V_d = 16 #uL\n",
    "dispense_time = t_d = 30 #s\n",
    "\n",
    "Q_d = 60 * (V_d/t_d) #mL/min\n",
    "evaporation_time = e_t = 30 #=  18000 #s\n",
    "\n",
    "sample_distance = 20 #mm"
   ]
  },
  {
   "cell_type": "markdown",
   "id": "465253d8",
   "metadata": {},
   "source": [
    "Define a function to execute syring pumping:"
   ]
  },
  {
   "cell_type": "code",
   "execution_count": null,
   "id": "a1ef135a",
   "metadata": {},
   "outputs": [],
   "source": [
    "#Defining an operation that executes the pumping procedure\n",
    "def single_pump(sy_dia, res_vol, ID, rate, dispense_vol):\n",
    "    com_syr.write(str(ID) + 'svolume ' + str(res_vol) + ' ml')\n",
    "    time.sleep(0.1)\n",
    "\n",
    "    com_syr.write(str(ID) + 'diameter ' + str(float(sy_dia)))\n",
    "    time.sleep(0.1)\n",
    "\n",
    "    com_syr.write(str(ID) + 'irate ' + str(float(rate)) + ' ul/min')\n",
    "    time.sleep(0.1)\n",
    "\n",
    "    com_syr.write(str(ID) + 'tvolume ' + str(float(dispense_vol)) + ' ul')\n",
    "    time.sleep(0.1)\n",
    "\n",
    "    com_syr.write(str(ID) + 'irun')"
   ]
  },
  {
   "cell_type": "markdown",
   "id": "210f5a9f",
   "metadata": {},
   "source": [
    "# Initial Flush Through Tubing System"
   ]
  },
  {
   "cell_type": "markdown",
   "id": "5b23b28f",
   "metadata": {},
   "source": [
    "Initial flushing fills the tubing with liquid. Volume for flushing is calculated based on:\n",
    "\n",
    "* Inner diameter of tubing is 1/32”\n",
    "\n",
    "* Radius = 1/64 Inch =  0.396875 mm\n",
    "\n",
    "* Volume of tubing = pi* R ** 2* L = 0.495 * L (mm ** 3)\n",
    "\n",
    "* Volume of piped = N (mm ** 3) = N * 0.001 mL =  0.495 * L *  0.001 mL"
   ]
  },
  {
   "cell_type": "code",
   "execution_count": null,
   "id": "7ac5f1a5",
   "metadata": {},
   "outputs": [],
   "source": [
    "L_pipes = 400 #mm\n",
    "V_flush_mL = 0.495 * L_pipes * 0.001 #mL #1/16 system\n",
    "V_flush_uL = V_flush_mL * 1000 # Convert to uL\n",
    "\n",
    "V_flush_initial = V_flush_uL\n",
    "print(V_flush_initial)"
   ]
  },
  {
   "cell_type": "markdown",
   "id": "75106c19",
   "metadata": {},
   "source": [
    "Now define a function \"flush()\" to flush the piping system."
   ]
  },
  {
   "cell_type": "code",
   "execution_count": null,
   "id": "bbda532c",
   "metadata": {},
   "outputs": [],
   "source": [
    "def flush(flush_volume_0, flush_volume_1, flush_time): #flushes syringe 1 & 2\n",
    "    #minki made flush_time = 3*flush_volume (around 20s)\n",
    "    \n",
    "    #calculation of rate of flush\n",
    "    rate_flush_0 = 60 * (flush_volume_0 / flush_time)\n",
    "    rate_flush_1 = 60 * (flush_volume_1 / flush_time)\n",
    "    \n",
    "    #flush the piping\n",
    "    single_pump(sy_dia, res_vol, 0, rate_flush_0, flush_volume_0)\n",
    "    time.sleep(0.1)\n",
    "\n",
    "    single_pump(sy_dia, res_vol, 1, rate_flush_1, flush_volume_1)\n",
    "    time.sleep(0.1)"
   ]
  },
  {
   "cell_type": "markdown",
   "id": "036d729d",
   "metadata": {},
   "source": [
    "Excecute the initial flushing through pipes"
   ]
  },
  {
   "cell_type": "code",
   "execution_count": null,
   "id": "8ce4102e",
   "metadata": {},
   "outputs": [],
   "source": [
    "#Initial flsh through pipes\n",
    "move_to(syringe_position_x,syringe_position_y)\n",
    "time.sleep(0.2)\n",
    "flush(V_flush_initial, V_flush_initial, 10)\n",
    "time.sleep(0.2)"
   ]
  },
  {
   "cell_type": "markdown",
   "id": "3945b294",
   "metadata": {},
   "source": [
    "# Setup the Dropcast Loop"
   ]
  },
  {
   "cell_type": "markdown",
   "id": "4a202651",
   "metadata": {},
   "source": [
    "This is the core of dropcasting process, which includes depositing a droplet onto the substrate, waiting for evaporation, moving to the camera position for image analysis, and making any necessary optimizations or adjustments for the next set of parameters."
   ]
  },
  {
   "cell_type": "markdown",
   "id": "72bfa246",
   "metadata": {},
   "source": [
    "Droplet Volume and Flow rate is calculated based on this:\n",
    "\n",
    "V = Q * t\n",
    "\n",
    "\tVolume to be dispensed = V_d\n",
    "\tDispense time = t_d\n",
    "\tDispense Rate = Q_d\n",
    "\t\n",
    "\tV_d = V_0 + V_1 \n",
    "\n",
    "\tV_d = Q_d *  t_d = (Q_0 + Q_1) * t_d\n",
    "\n",
    "\n",
    "p = percentage of fluid one; (1-p) percentage of other fluid\n",
    "\n",
    "\tV_d = V_0 + V_1 = pV_d - (1-p)V_d\n",
    "\tV_0 = (p)V_d\n",
    "\tV_1 = (1-p)V_d \n",
    "    \n",
    "\"p\" represents the concentration of the second syringe pump relative to the first, which is considered as an AE parameter"
   ]
  },
  {
   "cell_type": "code",
   "execution_count": null,
   "id": "7a2b7dd2",
   "metadata": {},
   "outputs": [],
   "source": [
    "#AE parameters \n",
    "file_path = \"image_path\"\n",
    "#len of p is the number of droplets\n",
    "p = [0.4,0.2]    "
   ]
  },
  {
   "cell_type": "markdown",
   "id": "a2e1f0a1",
   "metadata": {},
   "source": [
    "The dropcast loop iterates until all the droplets have been deposited\n",
    "\n",
    "For each iteration:\n",
    "\n",
    "1. The location of the \"i-th\" droplet  based on a predetermined pattern\n",
    "2. The volume and infusion rate for the \"i-th\" is calculated based on predefined parameters \n",
    "3. The syringe is moved to the location of the \"i-th\" droplet and starts pumping the calculated volumes\n",
    "4. Time for droplet evaporation is waited\n",
    "\n",
    "Note: Flush setup can also be used in the loop to clear the piping for a fresh droplet, but in this instance, it is not necessary."
   ]
  },
  {
   "cell_type": "code",
   "execution_count": null,
   "id": "78b532d5",
   "metadata": {},
   "outputs": [],
   "source": [
    "# Dropcasting Loop\n",
    "for i in range(len(p)):\n",
    "    # Print current iteration\n",
    "    print(f'iteration {i+1}')\n",
    "    time.sleep(0.2)\n",
    "    \n",
    "    # Find location of each droplet in iteration\n",
    "    n = 2  # number of droplets per row\n",
    "    a, b = divmod(i, n)  # Calculate row and column indices\n",
    "    print(a, b)\n",
    "    \n",
    "    #flush is to the right\n",
    "    position_x = str(float(syringe_position_x)-(sample_distance*int(b)))\n",
    "    position_y = str(float(syringe_position_y)-(sample_distance*int(a)))\n",
    "    print(f'droplet center:{position_x,position_y}')\n",
    "    \n",
    "    # Calculate droplet volumes based on a predefined ratio\n",
    "    V_0 = p[i] * V_d  # Volume for droplet 0\n",
    "    V_1 = (1 - p[i]) * V_d  # Volume for droplet 1\n",
    "    \n",
    "    # Calculate infusion rates for each droplet\n",
    "    Q_0 = 60 * (V_0 / t_d)  # Infusion rate for droplet 0\n",
    "    Q_1 = 60 * (V_1 / t_d)  # Infusion rate for droplet 1\n",
    "    \n",
    "    print(f'droplet volume: {V_0, V_1}')\n",
    "    \n",
    "    # Move to the location of droplet i and start pumping\n",
    "    move_to(position_x, position_y)\n",
    "    single_pump(sy_dia, res_vol, 0, Q_0, V_0)  # Pump for droplet 0\n",
    "    time.sleep(0.2)\n",
    "    single_pump(sy_dia, res_vol, 1, Q_1, V_1)  # Pump for droplet 1\n",
    "    time.sleep(0.2)\n",
    "    \n",
    "    # Allow droplet evaporation\n",
    "    time.sleep(e_t)\n",
    "    time.sleep(20)\n",
    "    \n",
    "    # End of loop\n",
    "    print('end of loop')"
   ]
  }
 ],
 "metadata": {
  "kernelspec": {
   "display_name": "Python 3 (ipykernel)",
   "language": "python",
   "name": "python3"
  },
  "language_info": {
   "codemirror_mode": {
    "name": "ipython",
    "version": 3
   },
   "file_extension": ".py",
   "mimetype": "text/x-python",
   "name": "python",
   "nbconvert_exporter": "python",
   "pygments_lexer": "ipython3",
   "version": "3.9.6"
  }
 },
 "nbformat": 4,
 "nbformat_minor": 5
}
